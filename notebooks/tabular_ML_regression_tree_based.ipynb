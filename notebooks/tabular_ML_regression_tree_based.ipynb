{
 "cells": [
  {
   "cell_type": "markdown",
   "metadata": {},
   "source": [
    "# Regression with ML, tabular data and tree based"
   ]
  },
  {
   "cell_type": "markdown",
   "metadata": {},
   "source": [
    "**Author**: Jonathan TRICARD\n",
    "\n",
    "**Summary**: using a dataset propose by scikit-learn, we build an Random Forest model to predict the price of a house. Then, we try to explain your model with the conditions tabular data and tree based.\n",
    "\n",
    "**ExplainML**: create a HTML report to have visualizations to explain how machine learning model works."
   ]
  },
  {
   "cell_type": "markdown",
   "metadata": {},
   "source": [
    "## Import libraries"
   ]
  },
  {
   "cell_type": "code",
   "execution_count": null,
   "metadata": {},
   "outputs": [],
   "source": [
    "import pandas as pd \n",
    "\n",
    "from sklearn.datasets import fetch_california_housing\n",
    "from sklearn.ensemble import RandomForestRegressor\n",
    "from sklearn.model_selection import train_test_split\n",
    "from sklearn.metrics  import mean_absolute_error, mean_squared_error, r2_score\n",
    "\n",
    "from readml.logger import ROOT_DIR\n",
    "from readml.explainers.ml.explain_ml import ExplainML "
   ]
  },
  {
   "cell_type": "markdown",
   "metadata": {},
   "source": [
    "## Import data"
   ]
  },
  {
   "cell_type": "code",
   "execution_count": null,
   "metadata": {},
   "outputs": [],
   "source": [
    "def create_and_split_dataframe():\n",
    "    dict_data = fetch_california_housing()\n",
    "    X = pd.DataFrame(dict_data[\"data\"], columns=dict_data[\"feature_names\"])\n",
    "    y = pd.DataFrame(dict_data[\"target\"], columns=dict_data[\"target_names\"])\n",
    "    X_train, X_test, y_train, y_test = train_test_split(X, y, test_size=0.3, random_state=42)\n",
    "    df_train = X_train.copy()\n",
    "    df_train[y_train.columns.values[0]] = y_train\n",
    "    df_test = X_test.copy()\n",
    "    df_test[y_test.columns.values[0]] = y_test\n",
    "    return X_train, X_test, y_train, y_test, df_train, df_test"
   ]
  },
  {
   "cell_type": "code",
   "execution_count": null,
   "metadata": {},
   "outputs": [],
   "source": [
    "X_train, X_test, y_train, y_test, df_train, df_test = create_and_split_dataframe() "
   ]
  },
  {
   "cell_type": "markdown",
   "metadata": {},
   "source": [
    "## Train model"
   ]
  },
  {
   "cell_type": "code",
   "execution_count": null,
   "metadata": {},
   "outputs": [],
   "source": [
    "rf = RandomForestRegressor(max_depth=2, random_state=42)\n",
    "rf.fit(X_train, y_train)"
   ]
  },
  {
   "cell_type": "code",
   "execution_count": null,
   "metadata": {},
   "outputs": [],
   "source": [
    "y_pred = rf.predict(X_test) "
   ]
  },
  {
   "cell_type": "code",
   "execution_count": null,
   "metadata": {},
   "outputs": [],
   "source": [
    "mae_rf = mean_absolute_error(y_test, y_pred)\n",
    "mse_rf = mean_squared_error(y_test, y_pred)\n",
    "r2_rf = r2_score(y_test, y_pred)\n",
    "\n",
    "print(\"MAE : \", mae_rf)\n",
    "print(\"MSE : \", mse_rf)\n",
    "print(\"R2 : \", r2_rf)"
   ]
  },
  {
   "cell_type": "markdown",
   "metadata": {},
   "source": [
    "## Use intelligibility from readml"
   ]
  },
  {
   "cell_type": "markdown",
   "metadata": {},
   "source": [
    " **WARNINGS**: Take care of change de config_local.cfg to adapt it to the use case, you may need to re run ```pip install -e .``` after the change in the configuration."
   ]
  },
  {
   "cell_type": "code",
   "execution_count": null,
   "metadata": {},
   "outputs": [],
   "source": [
    "model_explain = rf # The model you use\n",
    "task = \"regression\" # here we try to solve a regression problem\n",
    "tree_based_model = True # if you use a tree based model\n",
    "features_name = list(X_train.columns) # all the features without de target column\n",
    "features_to_interpret = features_name # the features on which you want to make intelligibility\n",
    "target_col = list(y_train.columns)[0] # the tagets columns\n",
    "out_path = \"../outputs/notebooks/\" # the path where you want to save the report\n",
    "out_path = os.path.join(ROOT_DIR, out_path)\n",
    "if not os.path.exists(out_path)\n",
    "    os.makedirs(out_path)"
   ]
  },
  {
   "cell_type": "code",
   "execution_count": null,
   "metadata": {},
   "outputs": [],
   "source": [
    "exp = ExplainML(\n",
    "        model=model_explain,\n",
    "        task_name=task, \n",
    "        tree_based_model=tree_based_model,\n",
    "        features_name=features_name,\n",
    "        features_to_interpret=features_to_interpret,\n",
    "        target_col=target_col,\n",
    "        out_path=out_path,\n",
    "    )"
   ]
  },
  {
   "cell_type": "code",
   "execution_count": null,
   "metadata": {},
   "outputs": [],
   "source": [
    "exp.global_ale(df_train) # you need to use the dataframe with features and target into "
   ]
  },
  {
   "cell_type": "code",
   "execution_count": null,
   "metadata": {},
   "outputs": [],
   "source": [
    "exp.global_pdp_ice(df_train) "
   ]
  },
  {
   "cell_type": "code",
   "execution_count": null,
   "metadata": {},
   "outputs": [],
   "source": [
    "exp.global_shap(df_train) "
   ]
  },
  {
   "cell_type": "code",
   "execution_count": null,
   "metadata": {},
   "outputs": [],
   "source": [
    "exp.local_shap(df_test.head()) # be careful it will produce one output by rows  "
   ]
  }
 ],
 "metadata": {
  "kernelspec": {
   "display_name": "Python 3 (ipykernel)",
   "language": "python",
   "name": "python3"
  },
  "language_info": {
   "codemirror_mode": {
    "name": "ipython",
    "version": 3
   },
   "file_extension": ".py",
   "mimetype": "text/x-python",
   "name": "python",
   "nbconvert_exporter": "python",
   "pygments_lexer": "ipython3",
   "version": "3.7.3"
  }
 },
 "nbformat": 4,
 "nbformat_minor": 4
}
