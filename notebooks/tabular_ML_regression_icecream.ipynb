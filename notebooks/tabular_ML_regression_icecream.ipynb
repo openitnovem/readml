{
 "cells": [
  {
   "cell_type": "markdown",
   "metadata": {},
   "source": [
    "# IceCream for regression with tabular data\n"
   ]
  },
  {
   "cell_type": "markdown",
   "metadata": {},
   "source": [
    "**Author**: Jonathan TRICARD\n",
    "\n",
    "**Summary**: using a dataset propose by scikit-learn, we build a basic ML model to predict the price of a house. We then try to explain your model with the conditions tabular data in a case of a regression.\n",
    "\n",
    "**icecream (Individual Conditional Expectation Charts by REAdme teaM)**: visualizations to explain how any machine learning model works."
   ]
  },
  {
   "cell_type": "markdown",
   "metadata": {},
   "source": [
    "## Import libraries"
   ]
  },
  {
   "cell_type": "code",
   "execution_count": null,
   "metadata": {},
   "outputs": [],
   "source": [
    "import pandas as pd \n",
    "\n",
    "from sklearn.datasets import fetch_california_housing\n",
    "from sklearn.svm import SVR\n",
    "from sklearn.model_selection import train_test_split\n",
    "from sklearn.metrics  import mean_absolute_error, mean_squared_error, r2_score\n",
    "\n",
    "from readml.icecream import icecream"
   ]
  },
  {
   "cell_type": "markdown",
   "metadata": {},
   "source": [
    "## Import data"
   ]
  },
  {
   "cell_type": "code",
   "execution_count": null,
   "metadata": {},
   "outputs": [],
   "source": [
    "def create_and_split_dataframe():\n",
    "    dict_data = fetch_california_housing()\n",
    "    X = pd.DataFrame(dict_data[\"data\"], columns=dict_data[\"feature_names\"])\n",
    "    y = pd.DataFrame(dict_data[\"target\"], columns=dict_data[\"target_names\"])\n",
    "    X_train, X_test, y_train, y_test = train_test_split(X, y, test_size=0.3, random_state=42)\n",
    "    df_train = X_train.copy()\n",
    "    df_train[y_train.columns.values[0]] = y_train\n",
    "    df_test = X_test.copy()\n",
    "    df_test[y_test.columns.values[0]] = y_test\n",
    "    return X_train, X_test, y_train, y_test, df_train, df_test"
   ]
  },
  {
   "cell_type": "code",
   "execution_count": null,
   "metadata": {},
   "outputs": [],
   "source": [
    "X_train, X_test, y_train, y_test, df_train, df_test = create_and_split_dataframe() "
   ]
  },
  {
   "cell_type": "markdown",
   "metadata": {},
   "source": [
    "## Train model"
   ]
  },
  {
   "cell_type": "code",
   "execution_count": null,
   "metadata": {},
   "outputs": [],
   "source": [
    "svr = SVR(kernel='rbf', gamma=0.1)\n",
    "svr.fit(X_train, y_train)"
   ]
  },
  {
   "cell_type": "code",
   "execution_count": null,
   "metadata": {},
   "outputs": [],
   "source": [
    "y_pred = svr.predict(X_test) "
   ]
  },
  {
   "cell_type": "code",
   "execution_count": null,
   "metadata": {},
   "outputs": [],
   "source": [
    "mae_svr = mean_absolute_error(y_test, y_pred)\n",
    "mse_svr = mean_squared_error(y_test, y_pred)\n",
    "r2_svr = r2_score(y_test, y_pred)\n",
    "\n",
    "print(\"MAE : \", mae_svr)\n",
    "print(\"MSE : \", mse_svr)\n",
    "print(\"R2 : \", r2_svr)"
   ]
  },
  {
   "cell_type": "markdown",
   "metadata": {},
   "source": [
    "## Make intelligibility with icecream"
   ]
  },
  {
   "cell_type": "code",
   "execution_count": null,
   "metadata": {},
   "outputs": [],
   "source": [
    "model_explain = svr # The model you use\n",
    "features_to_interpret = list(X_train.columns) # the features on which you want to make intelligibility\n",
    "target_col = list(y_train.columns)[0] # the tagets columns"
   ]
  },
  {
   "cell_type": "code",
   "execution_count": null,
   "metadata": {},
   "outputs": [],
   "source": [
    "icecream.options.default_number_bins = 20 "
   ]
  },
  {
   "cell_type": "code",
   "execution_count": null,
   "metadata": {},
   "outputs": [],
   "source": [
    "pdp = icecream.IceCream(\n",
    "        data=df_train[features_to_interpret],\n",
    "        feature_names=features_to_interpret,\n",
    "        model=model_explain,\n",
    "        targets=df_train[target_col],\n",
    "        use_classif_proba=False,\n",
    "        use_ale= False,\n",
    "    )\n",
    "pdp.draw(kind='pdp', show=True)"
   ]
  },
  {
   "cell_type": "markdown",
   "metadata": {},
   "source": [
    "### PDP plot"
   ]
  },
  {
   "cell_type": "code",
   "execution_count": null,
   "metadata": {},
   "outputs": [],
   "source": [
    "pdp.draw(kind='pdp', show=True)"
   ]
  },
  {
   "cell_type": "markdown",
   "metadata": {},
   "source": [
    "### ICE plot"
   ]
  },
  {
   "cell_type": "code",
   "execution_count": null,
   "metadata": {},
   "outputs": [],
   "source": [
    "pdp.draw(kind='ice', show=True, ice_nb_lines=15, ice_clustering_method=\"quantiles\") "
   ]
  },
  {
   "cell_type": "markdown",
   "metadata": {},
   "source": [
    "### ALE plot"
   ]
  },
  {
   "cell_type": "code",
   "execution_count": null,
   "metadata": {},
   "outputs": [],
   "source": [
    "ale = icecream.IceCream(\n",
    "        data=df_train[features_to_interpret],\n",
    "        feature_names=features_to_interpret,\n",
    "        model=model_explain,\n",
    "        targets=df_train[target_col],\n",
    "        use_classif_proba=False,\n",
    "        use_ale= True\n",
    "    )\n",
    "ale.draw(kind='ale', show=True)"
   ]
  },
  {
   "cell_type": "markdown",
   "metadata": {},
   "source": [
    "### PDP2D plot "
   ]
  },
  {
   "cell_type": "code",
   "execution_count": null,
   "metadata": {},
   "outputs": [],
   "source": [
    "pdp2d = icecream.IceCream2D(\n",
    "        data=df_train[features_to_interpret],\n",
    "        feature_x=features_to_interpret[0],\n",
    "        feature_y=features_to_interpret[1],\n",
    "        bins_x=10,\n",
    "        bins_y=10,\n",
    "        model=model_explain,\n",
    "        targets=df_train[target_col],\n",
    "        use_classif_proba=False,\n",
    "    )\n",
    "pdp2d.draw(kind='hist', show=True)"
   ]
  }
 ],
 "metadata": {
  "kernelspec": {
   "display_name": "Python 3 (ipykernel)",
   "language": "python",
   "name": "python3"
  },
  "language_info": {
   "codemirror_mode": {
    "name": "ipython",
    "version": 3
   },
   "file_extension": ".py",
   "mimetype": "text/x-python",
   "name": "python",
   "nbconvert_exporter": "python",
   "pygments_lexer": "ipython3",
   "version": "3.7.3"
  }
 },
 "nbformat": 4,
 "nbformat_minor": 4
}
