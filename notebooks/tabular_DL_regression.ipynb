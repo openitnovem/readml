{
 "cells": [
  {
   "cell_type": "markdown",
   "metadata": {},
   "source": [
    "# Regression with DL and tabular data"
   ]
  },
  {
   "cell_type": "markdown",
   "metadata": {},
   "source": [
    "**Author**: Jonathan TRICARD\n",
    "\n",
    "**Summary**: using a dataset propose by scikit-learn, we build a basic Neural Network model to predict the price of a house. We then try to explain your model with  the conditions tabular data in a case of a regression.\n",
    "\n",
    "**ExplainDL**: create a HTML report to have visualizations to explain how deep learning model works."
   ]
  },
  {
   "cell_type": "markdown",
   "metadata": {},
   "source": [
    "## Import libraries"
   ]
  },
  {
   "cell_type": "code",
   "execution_count": null,
   "metadata": {
    "vscode": {
     "languageId": "python"
    }
   },
   "outputs": [],
   "source": [
    "import os\n",
    "import pandas as pd \n",
    "\n",
    "from sklearn.datasets import fetch_california_housing\n",
    "from sklearn.model_selection import train_test_split\n",
    "from sklearn.metrics  import mean_absolute_error, mean_squared_error, r2_score\n",
    "\n",
    "import tensorflow as tf\n",
    "from tensorflow.keras.models import Sequential\n",
    "from tensorflow.keras.layers import Dense\n",
    "\n",
    "from readml.logger import ROOT_DIR\n",
    "from readml.explainers.dl.explain_dl import ExplainDL"
   ]
  },
  {
   "cell_type": "markdown",
   "metadata": {},
   "source": [
    "**WARNING**: You absolutely need to use this before the training of the model and the run of ExplainDL in notebooks, if not it would produce an error when you run ```ExplainDL().explain_tabular()```."
   ]
  },
  {
   "cell_type": "code",
   "execution_count": null,
   "metadata": {
    "vscode": {
     "languageId": "python"
    }
   },
   "outputs": [],
   "source": [
    "tf.compat.v1.disable_v2_behavior()"
   ]
  },
  {
   "cell_type": "code",
   "execution_count": null,
   "metadata": {
    "vscode": {
     "languageId": "python"
    }
   },
   "outputs": [],
   "source": [
    "print(tf.executing_eagerly())\n",
    "assert tf.executing_eagerly() == False"
   ]
  },
  {
   "cell_type": "markdown",
   "metadata": {},
   "source": [
    "## Import data"
   ]
  },
  {
   "cell_type": "code",
   "execution_count": null,
   "metadata": {
    "vscode": {
     "languageId": "python"
    }
   },
   "outputs": [],
   "source": [
    "def create_and_split_dataframe():\n",
    "    dict_data = fetch_california_housing()\n",
    "    X = pd.DataFrame(dict_data[\"data\"], columns=dict_data[\"feature_names\"])\n",
    "    y = pd.DataFrame(dict_data[\"target\"], columns=dict_data[\"target_names\"])\n",
    "    X_train, X_test, y_train, y_test = train_test_split(X, y, test_size=0.3, random_state=42)\n",
    "    df_train = X_train.copy()\n",
    "    df_train[y_train.columns.values[0]] = y_train\n",
    "    df_test = X_test.copy()\n",
    "    df_test[y_test.columns.values[0]] = y_test\n",
    "    return X_train, X_test, y_train, y_test, df_train, df_test"
   ]
  },
  {
   "cell_type": "code",
   "execution_count": null,
   "metadata": {
    "vscode": {
     "languageId": "python"
    }
   },
   "outputs": [],
   "source": [
    "X_train, X_test, y_train, y_test, df_train, df_test = create_and_split_dataframe() "
   ]
  },
  {
   "cell_type": "markdown",
   "metadata": {},
   "source": [
    "## Train model"
   ]
  },
  {
   "cell_type": "code",
   "execution_count": null,
   "metadata": {
    "vscode": {
     "languageId": "python"
    }
   },
   "outputs": [],
   "source": [
    "def baseline_model(input_dim):\n",
    "\tmodel = Sequential()\n",
    "\tmodel.add(Dense(13, input_dim=input_dim, kernel_initializer='normal', activation='relu'))\n",
    "\tmodel.add(Dense(1, kernel_initializer='normal'))\n",
    "\tmodel.compile(loss='mean_squared_error', optimizer='adam')\n",
    "\treturn model"
   ]
  },
  {
   "cell_type": "code",
   "execution_count": null,
   "metadata": {
    "vscode": {
     "languageId": "python"
    }
   },
   "outputs": [],
   "source": [
    "model = baseline_model(X_train.shape[1])\n",
    "model.fit(X_train, y_train, epochs=5, batch_size=10)"
   ]
  },
  {
   "cell_type": "code",
   "execution_count": null,
   "metadata": {
    "vscode": {
     "languageId": "python"
    }
   },
   "outputs": [],
   "source": [
    "y_pred_rnn = model.predict(X_test) "
   ]
  },
  {
   "cell_type": "code",
   "execution_count": null,
   "metadata": {
    "vscode": {
     "languageId": "python"
    }
   },
   "outputs": [],
   "source": [
    "mae_rnn = mean_absolute_error(y_test, y_pred_rnn)\n",
    "mse_rnn = mean_squared_error(y_test, y_pred_rnn)\n",
    "r2_rnn = r2_score(y_test, y_pred_rnn)\n",
    "\n",
    "print(\"MAE : \", mae_rnn)\n",
    "print(\"MSE : \", mse_rnn)\n",
    "print(\"R2 : \", r2_rnn)"
   ]
  },
  {
   "cell_type": "markdown",
   "metadata": {},
   "source": [
    "## Use intelligibility from readml"
   ]
  },
  {
   "cell_type": "markdown",
   "metadata": {},
   "source": [
    " **WARNINGS**: Take care of change de config_local.cfg to adapt it to the use case, you may need to re run ```pip install -e .``` after the change in the configuration."
   ]
  },
  {
   "cell_type": "code",
   "execution_count": null,
   "metadata": {
    "vscode": {
     "languageId": "python"
    }
   },
   "outputs": [],
   "source": [
    "model_explain = model # The model you use\n",
    "task = \"regression\" # here we try to solve a regression problem\n",
    "features_name = list(X_train.columns) # all the features without de target column\n",
    "out_path = \"../outputs/notebooks/\" # the path where you want to save the report\n",
    "out_path = os.path.join(ROOT_DIR, out_path)\n",
    "if not os.path.exists(out_path):\n",
    "    os.makedirs(out_path)"
   ]
  },
  {
   "cell_type": "markdown",
   "metadata": {},
   "source": [
    " If you just want to try it, take care of take only the ```.head()``` to have report on only a small part of the observation, because this would run and do intelligibility on each row you give to the ```.explain_tabular()``` method."
   ]
  },
  {
   "cell_type": "code",
   "execution_count": null,
   "metadata": {
    "vscode": {
     "languageId": "python"
    }
   },
   "outputs": [],
   "source": [
    "exp = ExplainDL(\n",
    "                model=model_explain,\n",
    "                out_path=out_path,\n",
    "                )"
   ]
  },
  {
   "cell_type": "code",
   "execution_count": null,
   "metadata": {
    "vscode": {
     "languageId": "python"
    }
   },
   "outputs": [],
   "source": [
    "exp.explain_tabular(\n",
    "                df_test.head(), # you need to use the dataframe with features and target into\n",
    "                features_name=features_name, \n",
    "                task_name=task,\n",
    "                )"
   ]
  },
  {
   "cell_type": "code",
   "execution_count": null,
   "metadata": {
    "vscode": {
     "languageId": "python"
    }
   },
   "outputs": [],
   "source": []
  }
 ],
 "metadata": {
  "kernelspec": {
   "display_name": "Python 3 (ipykernel)",
   "language": "python",
   "name": "python3"
  }
 },
 "nbformat": 4,
 "nbformat_minor": 4
}
